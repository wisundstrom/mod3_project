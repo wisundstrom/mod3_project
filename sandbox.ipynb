{
 "cells": [
  {
   "cell_type": "markdown",
   "metadata": {},
   "source": [
    "hyp test sandbox"
   ]
  },
  {
   "cell_type": "code",
   "execution_count": 1,
   "metadata": {},
   "outputs": [],
   "source": [
    "import pandas as pd\n",
    "import numpy as np\n",
    "from scipy import stats\n",
    "import math\n",
    "import hypothesis_tests as ht"
   ]
  },
  {
   "cell_type": "code",
   "execution_count": 2,
   "metadata": {},
   "outputs": [],
   "source": [
    "df = pd.read_csv('./data/dirty_data.csv')"
   ]
  },
  {
   "cell_type": "code",
   "execution_count": 3,
   "metadata": {},
   "outputs": [
    {
     "data": {
      "text/plain": [
       "50000"
      ]
     },
     "execution_count": 3,
     "metadata": {},
     "output_type": "execute_result"
    }
   ],
   "source": [
    "len(df)"
   ]
  },
  {
   "cell_type": "code",
   "execution_count": 43,
   "metadata": {},
   "outputs": [
    {
     "data": {
      "text/html": [
       "<div>\n",
       "<style scoped>\n",
       "    .dataframe tbody tr th:only-of-type {\n",
       "        vertical-align: middle;\n",
       "    }\n",
       "\n",
       "    .dataframe tbody tr th {\n",
       "        vertical-align: top;\n",
       "    }\n",
       "\n",
       "    .dataframe thead th {\n",
       "        text-align: right;\n",
       "    }\n",
       "</style>\n",
       "<table border=\"1\" class=\"dataframe\">\n",
       "  <thead>\n",
       "    <tr style=\"text-align: right;\">\n",
       "      <th></th>\n",
       "      <th>Unnamed: 0</th>\n",
       "      <th>charge</th>\n",
       "      <th>color</th>\n",
       "      <th>commercial_license</th>\n",
       "      <th>commercial_vehicle</th>\n",
       "      <th>driver_city</th>\n",
       "      <th>hazmat</th>\n",
       "      <th>make</th>\n",
       "      <th>model</th>\n",
       "      <th>vehicle_type</th>\n",
       "      <th>violation_type</th>\n",
       "      <th>year</th>\n",
       "    </tr>\n",
       "  </thead>\n",
       "  <tbody>\n",
       "    <tr>\n",
       "      <th>0</th>\n",
       "      <td>0</td>\n",
       "      <td>21-801.1</td>\n",
       "      <td>BLACK</td>\n",
       "      <td>No</td>\n",
       "      <td>No</td>\n",
       "      <td>FAIRFAX</td>\n",
       "      <td>No</td>\n",
       "      <td>HONDA</td>\n",
       "      <td>CIVIC</td>\n",
       "      <td>02 - Automobile</td>\n",
       "      <td>Warning</td>\n",
       "      <td>2014.0</td>\n",
       "    </tr>\n",
       "    <tr>\n",
       "      <th>1</th>\n",
       "      <td>1</td>\n",
       "      <td>21-707(a)</td>\n",
       "      <td>BLACK</td>\n",
       "      <td>No</td>\n",
       "      <td>No</td>\n",
       "      <td>SILVER SPRING</td>\n",
       "      <td>No</td>\n",
       "      <td>FORD</td>\n",
       "      <td>TK</td>\n",
       "      <td>02 - Automobile</td>\n",
       "      <td>Warning</td>\n",
       "      <td>2016.0</td>\n",
       "    </tr>\n",
       "    <tr>\n",
       "      <th>2</th>\n",
       "      <td>2</td>\n",
       "      <td>11-393.9</td>\n",
       "      <td>WHITE</td>\n",
       "      <td>No</td>\n",
       "      <td>No</td>\n",
       "      <td>ALEXANDRIA</td>\n",
       "      <td>No</td>\n",
       "      <td>HINO</td>\n",
       "      <td>TRUCK</td>\n",
       "      <td>06 - Heavy Duty Truck</td>\n",
       "      <td>Warning</td>\n",
       "      <td>2018.0</td>\n",
       "    </tr>\n",
       "    <tr>\n",
       "      <th>3</th>\n",
       "      <td>3</td>\n",
       "      <td>21-309(b)</td>\n",
       "      <td>BLACK</td>\n",
       "      <td>No</td>\n",
       "      <td>No</td>\n",
       "      <td>MONTGOMERY VILLAGE</td>\n",
       "      <td>No</td>\n",
       "      <td>HONDA</td>\n",
       "      <td>CIVIC</td>\n",
       "      <td>02 - Automobile</td>\n",
       "      <td>Warning</td>\n",
       "      <td>2008.0</td>\n",
       "    </tr>\n",
       "    <tr>\n",
       "      <th>4</th>\n",
       "      <td>4</td>\n",
       "      <td>61</td>\n",
       "      <td>WHITE</td>\n",
       "      <td>No</td>\n",
       "      <td>No</td>\n",
       "      <td>FORT WASHINGTON</td>\n",
       "      <td>No</td>\n",
       "      <td>TOYOTA</td>\n",
       "      <td>COROLA</td>\n",
       "      <td>02 - Automobile</td>\n",
       "      <td>ESERO</td>\n",
       "      <td>2010.0</td>\n",
       "    </tr>\n",
       "  </tbody>\n",
       "</table>\n",
       "</div>"
      ],
      "text/plain": [
       "   Unnamed: 0     charge  color commercial_license commercial_vehicle  \\\n",
       "0           0   21-801.1  BLACK                 No                 No   \n",
       "1           1  21-707(a)  BLACK                 No                 No   \n",
       "2           2   11-393.9  WHITE                 No                 No   \n",
       "3           3  21-309(b)  BLACK                 No                 No   \n",
       "4           4         61  WHITE                 No                 No   \n",
       "\n",
       "          driver_city hazmat    make   model           vehicle_type  \\\n",
       "0             FAIRFAX     No   HONDA   CIVIC        02 - Automobile   \n",
       "1       SILVER SPRING     No    FORD      TK        02 - Automobile   \n",
       "2          ALEXANDRIA     No    HINO   TRUCK  06 - Heavy Duty Truck   \n",
       "3  MONTGOMERY VILLAGE     No   HONDA   CIVIC        02 - Automobile   \n",
       "4     FORT WASHINGTON     No  TOYOTA  COROLA        02 - Automobile   \n",
       "\n",
       "  violation_type    year  \n",
       "0        Warning  2014.0  \n",
       "1        Warning  2016.0  \n",
       "2        Warning  2018.0  \n",
       "3        Warning  2008.0  \n",
       "4          ESERO  2010.0  "
      ]
     },
     "execution_count": 43,
     "metadata": {},
     "output_type": "execute_result"
    }
   ],
   "source": [
    "df.head()"
   ]
  },
  {
   "cell_type": "code",
   "execution_count": 44,
   "metadata": {},
   "outputs": [],
   "source": [
    "#df2=df.groupby('commercial_license').count()"
   ]
  },
  {
   "cell_type": "code",
   "execution_count": 3,
   "metadata": {},
   "outputs": [],
   "source": [
    "df['ticket']=df.violation_type.apply( lambda x : 1 if x == 'Citation' else 0 )"
   ]
  },
  {
   "cell_type": "code",
   "execution_count": 9,
   "metadata": {},
   "outputs": [],
   "source": [
    "#df['commercial']=df.violation_type.apply( lambda x : 1 if x == 'Citation' else 0 )"
   ]
  },
  {
   "cell_type": "code",
   "execution_count": 10,
   "metadata": {},
   "outputs": [],
   "source": [
    "def commerce(col1, col2):\n",
    "    is_comercial=(col1 == 'Yes') | (col2 =='Yes')\n",
    "    return int(is_comercial)"
   ]
  },
  {
   "cell_type": "code",
   "execution_count": 11,
   "metadata": {},
   "outputs": [],
   "source": [
    "df['commercial'] = df.apply(lambda x: commerce(x.commercial_license, x.commercial_vehicle), axis=1)"
   ]
  },
  {
   "cell_type": "code",
   "execution_count": 12,
   "metadata": {},
   "outputs": [],
   "source": [
    "cdl=df.loc[ (df.commercial_license == 'Yes') | (df.commercial_vehicle == 'Yes') ].ticket"
   ]
  },
  {
   "cell_type": "code",
   "execution_count": 13,
   "metadata": {},
   "outputs": [],
   "source": [
    "ndl=df.loc[(df.commercial_license == 'No') & (df.commercial_vehicle == 'Yes')].ticket"
   ]
  },
  {
   "cell_type": "code",
   "execution_count": 51,
   "metadata": {},
   "outputs": [],
   "source": [
    "samples=ht.create_sample_dists(df, y_var='ticket', x_var='commercial', categories=[1,0])"
   ]
  },
  {
   "cell_type": "code",
   "execution_count": 14,
   "metadata": {},
   "outputs": [
    {
     "data": {
      "text/plain": [
       "Ttest_indResult(statistic=6.00180194095527, pvalue=3.295466334408362e-08)"
      ]
     },
     "execution_count": 14,
     "metadata": {},
     "output_type": "execute_result"
    }
   ],
   "source": [
    "stats.ttest_ind(sample2[0], sample2[1])"
   ]
  },
  {
   "cell_type": "code",
   "execution_count": 7,
   "metadata": {},
   "outputs": [],
   "source": [
    "\n",
    "sample2=ht.create_sample_dists(df, y_var='ticket', x_var='color', categories=['BLACK','WHITE','RED'])"
   ]
  },
  {
   "cell_type": "code",
   "execution_count": 8,
   "metadata": {},
   "outputs": [],
   "source": [
    "F, p = stats.f_oneway(sample2[2], sample2[0], sample2[1])"
   ]
  },
  {
   "cell_type": "code",
   "execution_count": 9,
   "metadata": {},
   "outputs": [
    {
     "name": "stdout",
     "output_type": "stream",
     "text": [
      "41.27315494335931\n"
     ]
    }
   ],
   "source": [
    "print(F)"
   ]
  },
  {
   "cell_type": "code",
   "execution_count": 10,
   "metadata": {},
   "outputs": [
    {
     "name": "stdout",
     "output_type": "stream",
     "text": [
      "5.940950159617512e-15\n"
     ]
    }
   ],
   "source": [
    "print(p)"
   ]
  },
  {
   "cell_type": "code",
   "execution_count": 13,
   "metadata": {},
   "outputs": [
    {
     "data": {
      "text/plain": [
       "50"
      ]
     },
     "execution_count": 13,
     "metadata": {},
     "output_type": "execute_result"
    }
   ],
   "source": [
    "len(sample2[0])"
   ]
  },
  {
   "cell_type": "code",
   "execution_count": 57,
   "metadata": {},
   "outputs": [
    {
     "data": {
      "text/plain": [
       "0.7680465717981889"
      ]
     },
     "execution_count": 57,
     "metadata": {},
     "output_type": "execute_result"
    }
   ],
   "source": [
    "sum(sample2[1])/len(sample2[1])"
   ]
  },
  {
   "cell_type": "code",
   "execution_count": 36,
   "metadata": {},
   "outputs": [],
   "source": [
    "# import pandas as pd\n",
    "# import statsmodels.api as sm\n",
    "# from statsmodels.formula.api import ols"
   ]
  },
  {
   "cell_type": "code",
   "execution_count": 53,
   "metadata": {},
   "outputs": [],
   "source": [
    "# import statsmodels.api as sm\n",
    "# from statsmodels.formula.api import ols\n",
    "\n",
    "# mod = ols(f'{sample2[0]} ~ group',\n",
    "#                 data=data).fit()\n",
    "                \n",
    "# aov_table = sm.stats.anova_lm(mod, typ=2)\n",
    "# print(aov_table)\n",
    "\n"
   ]
  },
  {
   "cell_type": "code",
   "execution_count": 36,
   "metadata": {},
   "outputs": [
    {
     "ename": "AttributeError",
     "evalue": "module 'numpy' has no attribute 'Array'",
     "output_type": "error",
     "traceback": [
      "\u001b[0;31m---------------------------------------------------------------------------\u001b[0m",
      "\u001b[0;31mAttributeError\u001b[0m                            Traceback (most recent call last)",
      "\u001b[0;32m<ipython-input-36-472c22c13acb>\u001b[0m in \u001b[0;36m<module>\u001b[0;34m()\u001b[0m\n\u001b[0;32m----> 1\u001b[0;31m \u001b[0msmparray\u001b[0m\u001b[0;34m=\u001b[0m\u001b[0mnp\u001b[0m\u001b[0;34m.\u001b[0m\u001b[0mArray\u001b[0m\u001b[0;34m(\u001b[0m\u001b[0msample2\u001b[0m\u001b[0;34m)\u001b[0m\u001b[0;34m\u001b[0m\u001b[0m\n\u001b[0m",
      "\u001b[0;31mAttributeError\u001b[0m: module 'numpy' has no attribute 'Array'"
     ]
    }
   ],
   "source": [
    "smparray=np.Array(sample2)"
   ]
  },
  {
   "cell_type": "code",
   "execution_count": 34,
   "metadata": {},
   "outputs": [
    {
     "data": {
      "text/plain": [
       "0.8340059187516815"
      ]
     },
     "execution_count": 34,
     "metadata": {},
     "output_type": "execute_result"
    }
   ],
   "source": []
  },
  {
   "cell_type": "code",
   "execution_count": 64,
   "metadata": {},
   "outputs": [],
   "source": [
    "sampler=np.random.choice(sample2[0], size=(60,50))"
   ]
  },
  {
   "cell_type": "code",
   "execution_count": 66,
   "metadata": {},
   "outputs": [
    {
     "data": {
      "text/plain": [
       "60"
      ]
     },
     "execution_count": 66,
     "metadata": {},
     "output_type": "execute_result"
    }
   ],
   "source": [
    "len(sampler.mean( axis=1))"
   ]
  },
  {
   "cell_type": "code",
   "execution_count": 39,
   "metadata": {},
   "outputs": [
    {
     "data": {
      "text/plain": [
       "[8097, 5937, 3100]"
      ]
     },
     "execution_count": 39,
     "metadata": {},
     "output_type": "execute_result"
    }
   ],
   "source": []
  },
  {
   "cell_type": "code",
   "execution_count": null,
   "metadata": {},
   "outputs": [],
   "source": []
  }
 ],
 "metadata": {
  "kernelspec": {
   "display_name": "Python [conda env:learn-env] *",
   "language": "python",
   "name": "conda-env-learn-env-py"
  },
  "language_info": {
   "codemirror_mode": {
    "name": "ipython",
    "version": 3
   },
   "file_extension": ".py",
   "mimetype": "text/x-python",
   "name": "python",
   "nbconvert_exporter": "python",
   "pygments_lexer": "ipython3",
   "version": "3.6.6"
  }
 },
 "nbformat": 4,
 "nbformat_minor": 4
}
