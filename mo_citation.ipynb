{
 "cells": [
  {
   "cell_type": "code",
   "execution_count": 59,
   "metadata": {},
   "outputs": [],
   "source": [
    "!python grab_data.py"
   ]
  },
  {
   "cell_type": "code",
   "execution_count": 60,
   "metadata": {},
   "outputs": [
    {
     "name": "stdout",
     "output_type": "stream",
     "text": [
      "The autoreload extension is already loaded. To reload it, use:\n",
      "  %reload_ext autoreload\n"
     ]
    }
   ],
   "source": [
    "# auto reload a buit in fucntion \n",
    "%load_ext autoreload\n",
    "%autoreload 2"
   ]
  },
  {
   "cell_type": "code",
   "execution_count": 124,
   "metadata": {},
   "outputs": [],
   "source": [
    "import data_cleaning as dc"
   ]
  },
  {
   "cell_type": "code",
   "execution_count": 130,
   "metadata": {},
   "outputs": [
    {
     "name": "stdout",
     "output_type": "stream",
     "text": [
      "<class 'pandas.core.frame.DataFrame'>\n",
      "Int64Index: 20495 entries, 0 to 49999\n",
      "Data columns (total 12 columns):\n",
      "charge                20495 non-null object\n",
      "color                 20495 non-null object\n",
      "commercial_license    20495 non-null object\n",
      "commercial_vehicle    20495 non-null object\n",
      "driver_city           20495 non-null object\n",
      "hazmat                20495 non-null object\n",
      "make                  20495 non-null object\n",
      "model                 20495 non-null object\n",
      "seq_id                20495 non-null object\n",
      "vehicle_type          20495 non-null object\n",
      "violation_type        20495 non-null object\n",
      "year                  20495 non-null float64\n",
      "dtypes: float64(1), object(11)\n",
      "memory usage: 2.0+ MB\n"
     ]
    }
   ],
   "source": [
    "df = dc.full_clean()\n",
    "df.info()"
   ]
  },
  {
   "cell_type": "code",
   "execution_count": 131,
   "metadata": {},
   "outputs": [
    {
     "name": "stdout",
     "output_type": "stream",
     "text": [
      "\u001b[1m============================= test session starts ==============================\u001b[0m\n",
      "platform darwin -- Python 3.7.3, pytest-4.3.1, py-1.8.0, pluggy-0.9.0 -- /anaconda3/bin/python\n",
      "cachedir: .pytest_cache\n",
      "rootdir: /Users/flatironschool/Documents/Module_Projects/mod-3-project/project_mod3/mod3_project, inifile:\n",
      "plugins: remotedata-0.3.1, openfiles-0.3.2, doctestplus-0.3.0, arraydiff-0.3\n",
      "collected 9 items / 4 deselected / 5 selected                                  \u001b[0m\n",
      "\n",
      "test_data_cleaning.py::test_if_dataframe \u001b[32mPASSED\u001b[0m\u001b[36m                          [ 20%]\u001b[0m\n",
      "test_data_cleaning.py::test_no_null_values \u001b[32mPASSED\u001b[0m\u001b[36m                        [ 40%]\u001b[0m\n",
      "test_data_cleaning.py::test_no_duplicates \u001b[32mPASSED\u001b[0m\u001b[36m                         [ 60%]\u001b[0m\n",
      "test_data_cleaning.py::test_column_name_whitespace \u001b[32mPASSED\u001b[0m\u001b[36m                [ 80%]\u001b[0m\n",
      "test_data_cleaning.py::test_column_name_lowercase \u001b[32mPASSED\u001b[0m\u001b[36m                 [100%]\u001b[0m\n",
      "\n",
      "\u001b[32m\u001b[1m==================== 5 passed, 4 deselected in 1.55 seconds ====================\u001b[0m\n"
     ]
    }
   ],
   "source": [
    "!pytest -v -m cleaning"
   ]
  },
  {
   "cell_type": "code",
   "execution_count": 102,
   "metadata": {},
   "outputs": [
    {
     "name": "stdout",
     "output_type": "stream",
     "text": [
      "LICENSE                        data_cleaning.pyc\n",
      "Mod 3 Project DC - 071519 .pdf grab_data.py\n",
      "README.md                      hypothesis_testing.ipynb\n",
      "Untitled.ipynb                 hypothesis_tests.py\n",
      "\u001b[1m\u001b[36m__pycache__\u001b[m\u001b[m                    \u001b[1m\u001b[36mimg\u001b[m\u001b[m\n",
      "\u001b[1m\u001b[36marchive\u001b[m\u001b[m                        test_data_cleaning.py\n",
      "conftest.py                    test_visualizations.py\n",
      "\u001b[1m\u001b[36mdata\u001b[m\u001b[m                           visualizations.py\n",
      "data_cleaning.py\n"
     ]
    }
   ],
   "source": [
    "!ls"
   ]
  },
  {
   "cell_type": "code",
   "execution_count": 97,
   "metadata": {},
   "outputs": [
    {
     "data": {
      "text/plain": [
       "str"
      ]
     },
     "execution_count": 97,
     "metadata": {},
     "output_type": "execute_result"
    }
   ],
   "source": [
    "df['new'] = df.charge.apply(lambda x : x[0:2])"
   ]
  },
  {
   "cell_type": "code",
   "execution_count": null,
   "metadata": {},
   "outputs": [],
   "source": []
  }
 ],
 "metadata": {
  "kernelspec": {
   "display_name": "learn-env",
   "language": "python",
   "name": "learn-env"
  },
  "language_info": {
   "codemirror_mode": {
    "name": "ipython",
    "version": 3
   },
   "file_extension": ".py",
   "mimetype": "text/x-python",
   "name": "python",
   "nbconvert_exporter": "python",
   "pygments_lexer": "ipython3",
   "version": "3.6.6"
  }
 },
 "nbformat": 4,
 "nbformat_minor": 2
}
