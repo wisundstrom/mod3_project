{
 "cells": [
  {
   "cell_type": "code",
   "execution_count": 17,
   "metadata": {},
   "outputs": [],
   "source": [
    "import requests\n",
    "import pandas as pd\n",
    "import json"
   ]
  },
  {
   "cell_type": "code",
   "execution_count": 88,
   "metadata": {},
   "outputs": [],
   "source": [
    "head = {'token': 'hEodzVRdK0MFpd9EjlMszoCEg'}\n",
    "\n",
    "r = requests.get('https://data.montgomerycountymd.gov/resource/4mse-ku6q.json?$select=commercial_license,hazmat,commercial_vehicle,violation_type,charge,driver_city,vehicle_type,make,model,year,color&$limit=2000', headers=head)"
   ]
  },
  {
   "cell_type": "code",
   "execution_count": 83,
   "metadata": {},
   "outputs": [],
   "source": [
    "# head = {'token': 'hEodzVRdK0MFpd9EjlMszoCEg'}\n",
    "\n",
    "# r = requests.get('https://data.montgomerycountymd.gov/resource/4mse-ku6q.json?$select=*&$limit=100', headers=head)"
   ]
  },
  {
   "cell_type": "code",
   "execution_count": 89,
   "metadata": {},
   "outputs": [
    {
     "data": {
      "text/plain": [
       "200"
      ]
     },
     "execution_count": 89,
     "metadata": {},
     "output_type": "execute_result"
    }
   ],
   "source": [
    "r.status_code"
   ]
  },
  {
   "cell_type": "code",
   "execution_count": 90,
   "metadata": {},
   "outputs": [],
   "source": [
    "datajson=r.json()"
   ]
  },
  {
   "cell_type": "code",
   "execution_count": 91,
   "metadata": {},
   "outputs": [],
   "source": [
    "df = pd.DataFrame(datajson)"
   ]
  },
  {
   "cell_type": "code",
   "execution_count": 92,
   "metadata": {},
   "outputs": [
    {
     "data": {
      "text/plain": [
       "Index(['commercial_license', 'hazmat', 'commercial_vehicle', 'violation_type',\n",
       "       'charge', 'driver_city', 'vehicle_type', 'make', 'model', 'year',\n",
       "       'color'],\n",
       "      dtype='object')"
      ]
     },
     "execution_count": 92,
     "metadata": {},
     "output_type": "execute_result"
    }
   ],
   "source": [
    "df.keys()"
   ]
  },
  {
   "cell_type": "code",
   "execution_count": 93,
   "metadata": {},
   "outputs": [
    {
     "data": {
      "text/plain": [
       "2000"
      ]
     },
     "execution_count": 93,
     "metadata": {},
     "output_type": "execute_result"
    }
   ],
   "source": [
    "len(df)"
   ]
  },
  {
   "cell_type": "code",
   "execution_count": 94,
   "metadata": {},
   "outputs": [
    {
     "data": {
      "text/html": [
       "<div>\n",
       "<style scoped>\n",
       "    .dataframe tbody tr th:only-of-type {\n",
       "        vertical-align: middle;\n",
       "    }\n",
       "\n",
       "    .dataframe tbody tr th {\n",
       "        vertical-align: top;\n",
       "    }\n",
       "\n",
       "    .dataframe thead th {\n",
       "        text-align: right;\n",
       "    }\n",
       "</style>\n",
       "<table border=\"1\" class=\"dataframe\">\n",
       "  <thead>\n",
       "    <tr style=\"text-align: right;\">\n",
       "      <th></th>\n",
       "      <th>commercial_license</th>\n",
       "      <th>hazmat</th>\n",
       "      <th>commercial_vehicle</th>\n",
       "      <th>violation_type</th>\n",
       "      <th>charge</th>\n",
       "      <th>driver_city</th>\n",
       "      <th>vehicle_type</th>\n",
       "      <th>make</th>\n",
       "      <th>model</th>\n",
       "      <th>year</th>\n",
       "      <th>color</th>\n",
       "    </tr>\n",
       "  </thead>\n",
       "  <tbody>\n",
       "    <tr>\n",
       "      <th>0</th>\n",
       "      <td>No</td>\n",
       "      <td>No</td>\n",
       "      <td>No</td>\n",
       "      <td>Warning</td>\n",
       "      <td>21-801.1</td>\n",
       "      <td>FAIRFAX</td>\n",
       "      <td>02 - Automobile</td>\n",
       "      <td>HONDA</td>\n",
       "      <td>CIVIC</td>\n",
       "      <td>2014</td>\n",
       "      <td>BLACK</td>\n",
       "    </tr>\n",
       "    <tr>\n",
       "      <th>1</th>\n",
       "      <td>No</td>\n",
       "      <td>No</td>\n",
       "      <td>No</td>\n",
       "      <td>Warning</td>\n",
       "      <td>21-707(a)</td>\n",
       "      <td>SILVER SPRING</td>\n",
       "      <td>02 - Automobile</td>\n",
       "      <td>FORD</td>\n",
       "      <td>TK</td>\n",
       "      <td>2016</td>\n",
       "      <td>BLACK</td>\n",
       "    </tr>\n",
       "    <tr>\n",
       "      <th>2</th>\n",
       "      <td>No</td>\n",
       "      <td>No</td>\n",
       "      <td>No</td>\n",
       "      <td>Warning</td>\n",
       "      <td>11-393.9</td>\n",
       "      <td>ALEXANDRIA</td>\n",
       "      <td>06 - Heavy Duty Truck</td>\n",
       "      <td>HINO</td>\n",
       "      <td>TRUCK</td>\n",
       "      <td>2018</td>\n",
       "      <td>WHITE</td>\n",
       "    </tr>\n",
       "    <tr>\n",
       "      <th>3</th>\n",
       "      <td>No</td>\n",
       "      <td>No</td>\n",
       "      <td>No</td>\n",
       "      <td>Warning</td>\n",
       "      <td>21-309(b)</td>\n",
       "      <td>MONTGOMERY VILLAGE</td>\n",
       "      <td>02 - Automobile</td>\n",
       "      <td>HONDA</td>\n",
       "      <td>CIVIC</td>\n",
       "      <td>2008</td>\n",
       "      <td>BLACK</td>\n",
       "    </tr>\n",
       "    <tr>\n",
       "      <th>4</th>\n",
       "      <td>No</td>\n",
       "      <td>No</td>\n",
       "      <td>No</td>\n",
       "      <td>ESERO</td>\n",
       "      <td>61</td>\n",
       "      <td>FORT WASHINGTON</td>\n",
       "      <td>02 - Automobile</td>\n",
       "      <td>TOYOTA</td>\n",
       "      <td>COROLA</td>\n",
       "      <td>2010</td>\n",
       "      <td>WHITE</td>\n",
       "    </tr>\n",
       "  </tbody>\n",
       "</table>\n",
       "</div>"
      ],
      "text/plain": [
       "  commercial_license hazmat commercial_vehicle violation_type     charge  \\\n",
       "0                 No     No                 No        Warning   21-801.1   \n",
       "1                 No     No                 No        Warning  21-707(a)   \n",
       "2                 No     No                 No        Warning   11-393.9   \n",
       "3                 No     No                 No        Warning  21-309(b)   \n",
       "4                 No     No                 No          ESERO         61   \n",
       "\n",
       "          driver_city           vehicle_type    make   model  year  color  \n",
       "0             FAIRFAX        02 - Automobile   HONDA   CIVIC  2014  BLACK  \n",
       "1       SILVER SPRING        02 - Automobile    FORD      TK  2016  BLACK  \n",
       "2          ALEXANDRIA  06 - Heavy Duty Truck    HINO   TRUCK  2018  WHITE  \n",
       "3  MONTGOMERY VILLAGE        02 - Automobile   HONDA   CIVIC  2008  BLACK  \n",
       "4     FORT WASHINGTON        02 - Automobile  TOYOTA  COROLA  2010  WHITE  "
      ]
     },
     "execution_count": 94,
     "metadata": {},
     "output_type": "execute_result"
    }
   ],
   "source": [
    "df.head()"
   ]
  },
  {
   "cell_type": "code",
   "execution_count": 95,
   "metadata": {},
   "outputs": [],
   "source": [
    "df.to_csv('test.csv')"
   ]
  },
  {
   "cell_type": "code",
   "execution_count": null,
   "metadata": {},
   "outputs": [],
   "source": []
  }
 ],
 "metadata": {
  "kernelspec": {
   "display_name": "learn-env",
   "language": "python",
   "name": "learn-env"
  },
  "language_info": {
   "codemirror_mode": {
    "name": "ipython",
    "version": 3
   },
   "file_extension": ".py",
   "mimetype": "text/x-python",
   "name": "python",
   "nbconvert_exporter": "python",
   "pygments_lexer": "ipython3",
   "version": "3.7.3"
  }
 },
 "nbformat": 4,
 "nbformat_minor": 4
}
