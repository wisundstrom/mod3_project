{
 "cells": [
  {
   "cell_type": "markdown",
   "metadata": {},
   "source": [
    "# Import autoreload"
   ]
  },
  {
   "cell_type": "code",
   "execution_count": 7,
   "metadata": {},
   "outputs": [
    {
     "name": "stdout",
     "output_type": "stream",
     "text": [
      "The autoreload extension is already loaded. To reload it, use:\n",
      "  %reload_ext autoreload\n"
     ]
    }
   ],
   "source": [
    "# auto reload a buit in fucntion \n",
    "%load_ext autoreload\n",
    "%autoreload 2"
   ]
  },
  {
   "cell_type": "markdown",
   "metadata": {},
   "source": [
    "# Importing python codes"
   ]
  },
  {
   "cell_type": "code",
   "execution_count": 8,
   "metadata": {},
   "outputs": [],
   "source": [
    "import data_cleaning as dc\n",
    "import hypothesis_tests as ht\n",
    "import visualizations as vz"
   ]
  },
  {
   "cell_type": "code",
   "execution_count": null,
   "metadata": {},
   "outputs": [],
   "source": [
    "# !pytest -v -m cleaning"
   ]
  },
  {
   "cell_type": "code",
   "execution_count": 9,
   "metadata": {},
   "outputs": [
    {
     "name": "stdout",
     "output_type": "stream",
     "text": [
      "(20482, 12)\n"
     ]
    },
    {
     "data": {
      "text/plain": [
       "Index(['charge', 'color', 'commercial_license', 'commercial_vehicle',\n",
       "       'driver_city', 'hazmat', 'make', 'model', 'seq_id', 'vehicle_type',\n",
       "       'violation_type', 'year'],\n",
       "      dtype='object')"
      ]
     },
     "execution_count": 9,
     "metadata": {},
     "output_type": "execute_result"
    }
   ],
   "source": [
    "cleaned_data = dc.full_clean()\n",
    "print(cleaned_data.shape)\n",
    "cleaned_data.columns"
   ]
  },
  {
   "cell_type": "code",
   "execution_count": 10,
   "metadata": {},
   "outputs": [
    {
     "data": {
      "text/plain": [
       "Index(['color', 'make', 'model', 'violation_type', 'year', 'ticket'], dtype='object')"
      ]
     },
     "execution_count": 10,
     "metadata": {},
     "output_type": "execute_result"
    }
   ],
   "source": [
    "# add column and pull out information that are used in the hypothesis test\n",
    "cleaned_data['ticket'] = cleaned_data['violation_type'].apply(lambda x: 1 if x == 'Citation' else 0)\n",
    "short_cleaned_data = cleaned_data[['color','make','model','violation_type','year','ticket']]\n",
    "short_cleaned_data.columns"
   ]
  },
  {
   "cell_type": "markdown",
   "metadata": {},
   "source": [
    "## Data visualization "
   ]
  },
  {
   "cell_type": "code",
   "execution_count": null,
   "metadata": {},
   "outputs": [],
   "source": [
    "# white vs red cars comparison\n",
    "wr_chart = vz.create_sample_dists(cleaned_data,\n",
    "                                         y_var='ticket', \n",
    "                                         x_var='color',\n",
    "                                         categories=['WHITE','RED'])\n",
    "print(len(wr_chart))\n",
    "vz.overlapping_density('sns',\n",
    "                       input_vars=wr_chart,\n",
    "                       categories=['WHITE','RED'])"
   ]
  },
  {
   "cell_type": "code",
   "execution_count": null,
   "metadata": {},
   "outputs": [],
   "source": [
    "# white vs blue cars comparison\n",
    "wb_chart = vz.create_sample_dists(cleaned_data,\n",
    "                                         y_var='ticket', \n",
    "                                         x_var='color',\n",
    "                                         categories=['WHITE','BLUE'])\n",
    "print(len(wr_chart))\n",
    "vz.overlapping_density('sns',\n",
    "                       input_vars=wr_chart,\n",
    "                       categories=['WHITE','BLUE'], output_image_name='white_vs_blue')"
   ]
  },
  {
   "cell_type": "code",
   "execution_count": null,
   "metadata": {},
   "outputs": [],
   "source": [
    "vizualization = vz.create_sample_dists(short_cleaned_data,\n",
    "                    y_var='ticket', \n",
    "                    x_var='color',\n",
    "                    categories=['BLACK', 'WHITE', 'SILVER', 'BLUE','RED', 'GRAY'])\n",
    "vz.color_plot(vizualization,\n",
    "              categories=['BLACK', 'WHITE', 'SILVER', 'BLUE','RED', 'GRAY'],\n",
    "         output_image_name='Ticketed_vs_Non-Ticketed')"
   ]
  },
  {
   "cell_type": "markdown",
   "metadata": {},
   "source": [
    "## Hypothesis testing"
   ]
  },
  {
   "cell_type": "code",
   "execution_count": null,
   "metadata": {},
   "outputs": [],
   "source": [
    "ht.hypothesis_test_three(short_cleaned_data)"
   ]
  },
  {
   "cell_type": "code",
   "execution_count": null,
   "metadata": {},
   "outputs": [],
   "source": [
    "ht.hypothesis_test_one(short_cleaned_data)\n"
   ]
  },
  {
   "cell_type": "code",
   "execution_count": null,
   "metadata": {},
   "outputs": [],
   "source": [
    "categories=['NISS',\n",
    "                                                        'FORD',\n",
    "                                                        'HOND',\n",
    "                                                        'TOY']"
   ]
  },
  {
   "cell_type": "code",
   "execution_count": null,
   "metadata": {},
   "outputs": [],
   "source": [
    "cleaned_data.head(1)"
   ]
  },
  {
   "cell_type": "code",
   "execution_count": null,
   "metadata": {},
   "outputs": [],
   "source": [
    "make_chart = vz.create_sample_dists(cleaned_data=cleaned_data,\n",
    "                    y_var = 'ticket',\n",
    "                    x_var = 'make',\n",
    "                    categories = ['HOND', 'TOY'])\n",
    "vz.overlapping_density('sns',\n",
    "                       input_vars=make_chart,\n",
    "                       categories=['HOND', 'TOY'])"
   ]
  },
  {
   "cell_type": "code",
   "execution_count": 11,
   "metadata": {},
   "outputs": [],
   "source": [
    "make_vis= vz.create_sample_dists(cleaned_data=cleaned_data,\n",
    "                    y_var = 'ticket',\n",
    "                    x_var = 'make',\n",
    "                    categories = ['NISS', 'FORD', 'HOND', 'TOY'])"
   ]
  },
  {
   "cell_type": "code",
   "execution_count": 12,
   "metadata": {},
   "outputs": [
    {
     "data": {
      "text/plain": [
       "(None,)"
      ]
     },
     "execution_count": 12,
     "metadata": {},
     "output_type": "execute_result"
    },
    {
     "data": {
      "image/png": "[encoded data removed]",
      "text/plain": [
       "<Figure size 1152x720 with 1 Axes>"
      ]
     },
     "metadata": {},
     "output_type": "display_data"
    }
   ],
   "source": [
    "vz.color_plot(make_vis,\n",
    "              categories=['NISS','FORD', 'HOND', 'TOY']),\n",
    "#          output_image_name='Ticketed_vs_Non-Ticketed')"
   ]
  },
  {
   "cell_type": "code",
   "execution_count": null,
   "metadata": {},
   "outputs": [],
   "source": [
    "len(make_vis)"
   ]
  },
  {
   "cell_type": "code",
   "execution_count": null,
   "metadata": {},
   "outputs": [],
   "source": [
    "def color_plot(arr,categories=None, output_image_name=None):\n",
    "    arr_list = np.asarray(arr).mean(axis=1)\n",
    "    arr_lst = np.vstack((arr_list, 1-arr_list))\n",
    "    print(len(arr_list))\n",
    "    df = pd.DataFrame(arr_lst.T)\n",
    "    df.plot(kind='bar',stacked=True)\n",
    "#     sns.set(color_codes=True)\n",
    "    plt.xlabel('Vehicle colors', fontsize=med)\n",
    "    plt.ylabel('Citation rates', fontsize=med)\n",
    "    plt.title('Ticketed vs Non-Ticketed vehicle colors')\n",
    "    plt.xticks(np.arange(len(create_sample_dists(cleaned_data))),categories,rotation=0)#,"
   ]
  },
  {
   "cell_type": "code",
   "execution_count": null,
   "metadata": {},
   "outputs": [],
   "source": [
    "color_plot(make_vis)\n"
   ]
  },
  {
   "cell_type": "code",
   "execution_count": null,
   "metadata": {},
   "outputs": [],
   "source": [
    "import numpy as np\n",
    "import pandas as pd"
   ]
  },
  {
   "cell_type": "code",
   "execution_count": null,
   "metadata": {},
   "outputs": [],
   "source": [
    "df"
   ]
  },
  {
   "cell_type": "code",
   "execution_count": null,
   "metadata": {},
   "outputs": [],
   "source": []
  }
 ],
 "metadata": {
  "kernelspec": {
   "display_name": "learn-env",
   "language": "python",
   "name": "learn-env"
  },
  "language_info": {
   "codemirror_mode": {
    "name": "ipython",
    "version": 3
   },
   "file_extension": ".py",
   "mimetype": "text/x-python",
   "name": "python",
   "nbconvert_exporter": "python",
   "pygments_lexer": "ipython3",
   "version": "3.6.6"
  }
 },
 "nbformat": 4,
 "nbformat_minor": 2
}
