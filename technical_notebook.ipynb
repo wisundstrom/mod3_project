{
 "cells": [
  {
   "cell_type": "markdown",
   "metadata": {},
   "source": [
    "# Import autoreload"
   ]
  },
  {
   "cell_type": "code",
   "execution_count": 1,
   "metadata": {},
   "outputs": [],
   "source": [
    "# auto reload a buit in fucntion \n",
    "%load_ext autoreload\n",
    "%autoreload 2"
   ]
  },
  {
   "cell_type": "markdown",
   "metadata": {},
   "source": [
    "# Importing python codes"
   ]
  },
  {
   "cell_type": "code",
   "execution_count": 2,
   "metadata": {},
   "outputs": [
    {
     "name": "stdout",
     "output_type": "stream",
     "text": [
      "\u001b[31mImportError while loading conftest '/Users/flatironschool/Documents/Mod_projects/mod3_project/conftest.py'.\u001b[0m\n",
      "\u001b[31mconftest.py:3: in <module>\u001b[0m\n",
      "\u001b[31m    import visualizations as vz\u001b[0m\n",
      "\u001b[31mE     File \"/Users/flatironschool/Documents/Mod_projects/mod3_project/visualizations.py\", line 73\u001b[0m\n",
      "\u001b[31mE       plt.savefig(f'img/{output_image_name}.png', transparent = True, figure = fig)\u001b[0m\n",
      "\u001b[31mE                                                ^\u001b[0m\n",
      "\u001b[31mE   SyntaxError: invalid syntax\u001b[0m\n"
     ]
    }
   ],
   "source": [
    "import data_cleaning as dc\n",
    "!pytest -v -m cleaning"
   ]
  },
  {
   "cell_type": "code",
   "execution_count": 3,
   "metadata": {},
   "outputs": [],
   "source": [
    "import hypothesis_tests as ht\n",
    "import visualizations as vz"
   ]
  },
  {
   "cell_type": "code",
   "execution_count": null,
   "metadata": {},
   "outputs": [],
   "source": [
    "cleaned_data = dc.full_clean()\n",
    "print(cleaned_data.shape)\n",
    "cleaned_data.columns"
   ]
  },
  {
   "cell_type": "code",
   "execution_count": null,
   "metadata": {},
   "outputs": [],
   "source": [
    "# add column and pull out information that are used in the hypothesis test\n",
    "cleaned_data['ticket'] = cleaned_data['violation_type'].apply(lambda x: 1 if x == 'Citation' else 0)\n",
    "short_cleaned_data = cleaned_data[['color','make','model','violation_type','year','ticket']]\n",
    "short_cleaned_data.columns"
   ]
  },
  {
   "cell_type": "markdown",
   "metadata": {},
   "source": [
    "## Data visualization "
   ]
  },
  {
   "cell_type": "code",
   "execution_count": null,
   "metadata": {},
   "outputs": [],
   "source": [
    "# white vs red cars comparison\n",
    "wr_chart = vz.create_sample_dists(cleaned_data,\n",
    "                                         y_var='ticket', \n",
    "                                         x_var='color',\n",
    "                                         categories=['WHITE','RED'])\n",
    "print(len(wr_chart))\n",
    "vz.overlapping_density('sns',\n",
    "                       input_vars=wr_chart,\n",
    "                       categories=['WHITE','RED'])"
   ]
  },
  {
   "cell_type": "code",
   "execution_count": null,
   "metadata": {},
   "outputs": [],
   "source": [
    "# white vs blue cars comparison\n",
    "wb_chart = vz.create_sample_dists(cleaned_data,\n",
    "                                         y_var='ticket', \n",
    "                                         x_var='color',\n",
    "                                         categories=['WHITE','BLUE'])\n",
    "print(len(wr_chart))\n",
    "vz.overlapping_density('sns',\n",
    "                       input_vars=wr_chart,\n",
    "                       categories=['WHITE','BLUE'], output_image_name='white_vs_blue')"
   ]
  },
  {
   "cell_type": "code",
   "execution_count": null,
   "metadata": {},
   "outputs": [],
   "source": [
    "vizualization = vz.create_sample_dists(short_cleaned_data,\n",
    "                    y_var='ticket', \n",
    "                    x_var='color',\n",
    "                    categories=['BLACK', 'WHITE', 'SILVER', 'BLUE','RED', 'GRAY'])\n",
    "vz.color_plot(vizualization,\n",
    "              categories=['BLACK', 'WHITE', 'SILVER', 'BLUE','RED', 'GRAY'],\n",
    "         output_image_name='Ticketed_vs_Non-Ticketed')"
   ]
  },
  {
   "cell_type": "markdown",
   "metadata": {},
   "source": [
    "## Hypothesis testing"
   ]
  },
  {
   "cell_type": "code",
   "execution_count": null,
   "metadata": {},
   "outputs": [],
   "source": [
    "ht.hypothesis_test_three(short_cleaned_data)"
   ]
  },
  {
   "cell_type": "code",
   "execution_count": null,
   "metadata": {},
   "outputs": [],
   "source": [
    "ht.hypothesis_test_one(short_cleaned_data)\n"
   ]
  },
  {
   "cell_type": "code",
   "execution_count": null,
   "metadata": {},
   "outputs": [],
   "source": [
    "ht.create_sample_dists()"
   ]
  },
  {
   "cell_type": "code",
   "execution_count": null,
   "metadata": {},
   "outputs": [],
   "source": []
  },
  {
   "cell_type": "code",
   "execution_count": null,
   "metadata": {},
   "outputs": [],
   "source": []
  }
 ],
 "metadata": {
  "kernelspec": {
   "display_name": "learn-env",
   "language": "python",
   "name": "learn-env"
  },
  "language_info": {
   "codemirror_mode": {
    "name": "ipython",
    "version": 3
   },
   "file_extension": ".py",
   "mimetype": "text/x-python",
   "name": "python",
   "nbconvert_exporter": "python",
   "pygments_lexer": "ipython3",
   "version": "3.6.6"
  }
 },
 "nbformat": 4,
 "nbformat_minor": 2
}
